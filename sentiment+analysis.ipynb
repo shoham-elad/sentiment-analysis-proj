{
 "cells": [
  {
   "cell_type": "code",
   "execution_count": 2,
   "metadata": {},
   "outputs": [],
   "source": [
    "from keras.layers.core import Activation, Dense, Dropout, SpatialDropout1D\n",
    "from keras.layers.embeddings import Embedding\n",
    "from keras.layers.recurrent import LSTM\n",
    "from keras.models import Sequential\n",
    "from keras.preprocessing import sequence\n",
    "from sklearn.model_selection import train_test_split\n",
    "import collections\n",
    "import matplotlib.pyplot as plt\n",
    "import nltk\n",
    "import numpy as np\n",
    "import os\n"
   ]
  },
  {
   "cell_type": "code",
   "execution_count": 4,
   "metadata": {},
   "outputs": [
    {
     "ename": "ValueError",
     "evalue": "not enough values to unpack (expected 2, got 1)",
     "output_type": "error",
     "traceback": [
      "\u001b[1;31m---------------------------------------------------------------------------\u001b[0m",
      "\u001b[1;31mValueError\u001b[0m                                Traceback (most recent call last)",
      "\u001b[1;32m<ipython-input-4-5817a120db09>\u001b[0m in \u001b[0;36m<module>\u001b[1;34m()\u001b[0m\n\u001b[0;32m      6\u001b[0m     \u001b[0mlines\u001b[0m \u001b[1;33m=\u001b[0m \u001b[1;33m[\u001b[0m\u001b[0mx\u001b[0m\u001b[1;33m.\u001b[0m\u001b[0mdecode\u001b[0m\u001b[1;33m(\u001b[0m\u001b[1;34m\"ascii\"\u001b[0m\u001b[1;33m,\u001b[0m\u001b[1;34m\"ignore\"\u001b[0m\u001b[1;33m)\u001b[0m\u001b[1;33m.\u001b[0m\u001b[0mstrip\u001b[0m\u001b[1;33m(\u001b[0m\u001b[1;33m)\u001b[0m\u001b[1;33m.\u001b[0m\u001b[0mlower\u001b[0m\u001b[1;33m(\u001b[0m\u001b[1;33m)\u001b[0m \u001b[1;32mfor\u001b[0m \u001b[0mx\u001b[0m \u001b[1;32min\u001b[0m \u001b[0mftrain\u001b[0m\u001b[1;33m.\u001b[0m\u001b[0mreadlines\u001b[0m\u001b[1;33m(\u001b[0m\u001b[1;33m)\u001b[0m\u001b[1;33m]\u001b[0m\u001b[1;33m\u001b[0m\u001b[0m\n\u001b[0;32m      7\u001b[0m     \u001b[1;32mfor\u001b[0m \u001b[0mline\u001b[0m \u001b[1;32min\u001b[0m \u001b[0mlines\u001b[0m\u001b[1;33m:\u001b[0m\u001b[1;33m\u001b[0m\u001b[0m\n\u001b[1;32m----> 8\u001b[1;33m         \u001b[0mlabel\u001b[0m \u001b[1;33m,\u001b[0m \u001b[0msentence\u001b[0m \u001b[1;33m=\u001b[0m \u001b[0mline\u001b[0m\u001b[1;33m.\u001b[0m\u001b[0mstrip\u001b[0m\u001b[1;33m(\u001b[0m\u001b[1;33m)\u001b[0m\u001b[1;33m.\u001b[0m\u001b[0msplit\u001b[0m\u001b[1;33m(\u001b[0m\u001b[1;34m\"\\t\"\u001b[0m\u001b[1;33m)\u001b[0m\u001b[1;33m\u001b[0m\u001b[0m\n\u001b[0m\u001b[0;32m      9\u001b[0m         \u001b[0mwords\u001b[0m \u001b[1;33m=\u001b[0m \u001b[0mnltk\u001b[0m\u001b[1;33m.\u001b[0m\u001b[0mword_tokenize\u001b[0m\u001b[1;33m(\u001b[0m\u001b[0msentence\u001b[0m\u001b[1;33m)\u001b[0m\u001b[1;33m\u001b[0m\u001b[0m\n\u001b[0;32m     10\u001b[0m         \u001b[1;32mif\u001b[0m\u001b[1;33m(\u001b[0m \u001b[0mlen\u001b[0m\u001b[1;33m(\u001b[0m\u001b[0mwords\u001b[0m\u001b[1;33m)\u001b[0m \u001b[1;33m>\u001b[0m \u001b[0mmaxlen\u001b[0m\u001b[1;33m)\u001b[0m\u001b[1;33m:\u001b[0m\u001b[1;33m\u001b[0m\u001b[0m\n",
      "\u001b[1;31mValueError\u001b[0m: not enough values to unpack (expected 2, got 1)"
     ]
    }
   ],
   "source": [
    "maxlen = 0\n",
    "word_freqs = collections.Counter()\n",
    "num_recs = 0\n",
    "\n",
    "with open(\"train.ft.txt\",'rb') as ftrain:\n",
    "    lines = [x.decode(\"ascii\",\"ignore\").strip().lower() for x in ftrain.readlines()]\n",
    "    for line in lines:\n",
    "        label , sentence = line.strip().split(\"\\t\")\n",
    "        words = nltk.word_tokenize(sentence)\n",
    "        if( len(words) > maxlen):\n",
    "            maxlen = len(words)\n",
    "        for word in words:\n",
    "            word_freqs[word]+=1\n",
    "        num_recs +=1\n",
    "        "
   ]
  },
  {
   "cell_type": "code",
   "execution_count": 22,
   "metadata": {},
   "outputs": [
    {
     "name": "stdout",
     "output_type": "stream",
     "text": [
      "42\n"
     ]
    }
   ],
   "source": [
    "print(maxlen)"
   ]
  },
  {
   "cell_type": "code",
   "execution_count": 36,
   "metadata": {},
   "outputs": [
    {
     "data": {
      "text/plain": [
       "7086"
      ]
     },
     "execution_count": 36,
     "metadata": {},
     "output_type": "execute_result"
    }
   ],
   "source": [
    "num_recs"
   ]
  },
  {
   "cell_type": "code",
   "execution_count": 23,
   "metadata": {},
   "outputs": [
    {
     "data": {
      "text/plain": [
       "2313"
      ]
     },
     "execution_count": 23,
     "metadata": {},
     "output_type": "execute_result"
    }
   ],
   "source": [
    "len(word_freqs) "
   ]
  },
  {
   "cell_type": "code",
   "execution_count": 24,
   "metadata": {
    "collapsed": true
   },
   "outputs": [],
   "source": [
    "MAX_FEATURES = 2000\n",
    "MAX_SENTENCE_LENGTH = 40"
   ]
  },
  {
   "cell_type": "code",
   "execution_count": 25,
   "metadata": {
    "collapsed": true
   },
   "outputs": [],
   "source": [
    "vocab_size = min(MAX_FEATURES, len(word_freqs)) + 2\n",
    "word2index = {x[0]: i+2 for i, x in\n",
    "enumerate(word_freqs.most_common(MAX_FEATURES))}\n",
    "word2index[\"PAD\"] = 0\n",
    "word2index[\"UNK\"] = 1\n",
    "index2word = {v:k for k, v in word2index.items()}"
   ]
  },
  {
   "cell_type": "code",
   "execution_count": 38,
   "metadata": {
    "collapsed": true
   },
   "outputs": [],
   "source": [
    "X = np.empty((num_recs, ), dtype=list)\n",
    "y = np.zeros((num_recs, ))\n",
    "i = 0\n",
    "with open(\"training.txt\",'rb') as ftrain:\n",
    "    lines = [x.decode(\"ascii\",\"ignore\").strip().lower() for x in ftrain.readlines()]\n",
    "    for line in lines:\n",
    "        label, sentence = line.split(\"\\t\")\n",
    "        words = nltk.word_tokenize(sentence)\n",
    "        seqs = []\n",
    "        for word in words:\n",
    "            if word in word2index:\n",
    "                seqs.append(word2index[word])\n",
    "            else:\n",
    "                seqs.append(word2index[\"UNK\"])\n",
    "        X[i] = seqs\n",
    "        y[i] = int(label)\n",
    "        i += 1\n",
    "\n",
    "X = sequence.pad_sequences(X, maxlen=MAX_SENTENCE_LENGTH)\n",
    "\n"
   ]
  },
  {
   "cell_type": "code",
   "execution_count": 39,
   "metadata": {
    "collapsed": true
   },
   "outputs": [],
   "source": [
    "Xtrain, Xtest, ytrain, ytest = train_test_split(X, y, test_size=0.2,\n",
    "random_state=42)"
   ]
  },
  {
   "cell_type": "code",
   "execution_count": 5,
   "metadata": {},
   "outputs": [
    {
     "ename": "SyntaxError",
     "evalue": "invalid syntax (<ipython-input-5-7529723a39a3>, line 3)",
     "output_type": "error",
     "traceback": [
      "\u001b[1;36m  File \u001b[1;32m\"<ipython-input-5-7529723a39a3>\"\u001b[1;36m, line \u001b[1;32m3\u001b[0m\n\u001b[1;33m    ACTIVATION=Activation(\"sigmoid\"),LOSS=\"binary_crossentropy\",OPTIMIZER='adam'.METRICS=[\"accuracy\"]):\u001b[0m\n\u001b[1;37m             ^\u001b[0m\n\u001b[1;31mSyntaxError\u001b[0m\u001b[1;31m:\u001b[0m invalid syntax\n"
     ]
    }
   ],
   "source": [
    "def RNN(InputTrain, LabelsTrain, InputTest, InputTest,\n",
    "        INPUT_SIZE = 128,HIDDEN_LAYER_SIZE = 64,BATCH_SIZE = 32,NUM_EPOCHS = 10,RLAYER=LSTM(HIDDEN_LAYER_SIZE)\n",
    "        ACTIVATION=Activation(\"sigmoid\"),LOSS=\"binary_crossentropy\",OPTIMIZER='adam'.METRICS=[\"accuracy\"]):\n",
    "    model = Sequential()\n",
    "    model.add(Embedding(vocab_size, INPUT_SIZE,input_length=MAX_SENTENCE_LENGTH))\n",
    "    #model.add(SpatialDropout1D(0.2))\n",
    "    #model.add(LSTM(HIDDEN_LAYER_SIZE, dropout=float(0.2), recurrent_dropout=float(0.2)))\n",
    "    model.add(RLAYER)\n",
    "    model.add(Dense(1))\n",
    "    model.add(ACTIVATION)\n",
    "    model.compile(loss=LOSS, optimizer=OPTIMIZER,metrics=METRICS)\n",
    "    history = model.fit(InputTrain, LabelsTrain, batch_size=BATCH_SIZE,epochs=NUM_EPOCHS,validation_data=(InputTest, InputTest))\n",
    "    return model"
   ]
  },
  {
   "cell_type": "code",
   "execution_count": 45,
   "metadata": {
    "collapsed": true
   },
   "outputs": [],
   "source": [
    "EMBEDDING_SIZE = 128\n",
    "HIDDEN_LAYER_SIZE = 64\n",
    "BATCH_SIZE = 32\n",
    "NUM_EPOCHS = 10\n",
    "model = Sequential()\n",
    "model.add(Embedding(vocab_size, EMBEDDING_SIZE,input_length=MAX_SENTENCE_LENGTH))\n",
    "model.add(SpatialDropout1D(0.2))\n",
    "model.add(LSTM(HIDDEN_LAYER_SIZE, dropout=float(0.2), recurrent_dropout=float(0.2)))\n",
    "model.add(Dense(1))\n",
    "model.add(Activation(\"sigmoid\"))\n",
    "model.compile(loss=\"binary_crossentropy\", optimizer=\"adam\",metrics=[\"accuracy\"])\n"
   ]
  },
  {
   "cell_type": "code",
   "execution_count": 46,
   "metadata": {},
   "outputs": [
    {
     "name": "stdout",
     "output_type": "stream",
     "text": [
      "Train on 5668 samples, validate on 1418 samples\n",
      "Epoch 1/10\n",
      "5668/5668 [==============================] - 8s 1ms/step - loss: 0.2408 - acc: 0.8964 - val_loss: 0.0657 - val_acc: 0.9767\n",
      "Epoch 2/10\n",
      "5668/5668 [==============================] - 6s 1ms/step - loss: 0.0248 - acc: 0.9924 - val_loss: 0.0432 - val_acc: 0.9845\n",
      "Epoch 3/10\n",
      "5668/5668 [==============================] - 7s 1ms/step - loss: 0.0101 - acc: 0.9975 - val_loss: 0.0545 - val_acc: 0.9845\n",
      "Epoch 4/10\n",
      "5668/5668 [==============================] - 6s 1ms/step - loss: 0.0038 - acc: 0.9991 - val_loss: 0.0473 - val_acc: 0.9894\n",
      "Epoch 5/10\n",
      "5668/5668 [==============================] - 6s 1ms/step - loss: 0.0024 - acc: 0.9995 - val_loss: 0.0522 - val_acc: 0.9901\n",
      "Epoch 6/10\n",
      "5668/5668 [==============================] - 6s 1ms/step - loss: 0.0018 - acc: 0.9995 - val_loss: 0.0515 - val_acc: 0.9887\n",
      "Epoch 7/10\n",
      "5668/5668 [==============================] - 7s 1ms/step - loss: 8.2445e-04 - acc: 0.9998 - val_loss: 0.0589 - val_acc: 0.9901\n",
      "Epoch 8/10\n",
      "5668/5668 [==============================] - 7s 1ms/step - loss: 8.5889e-04 - acc: 0.9996 - val_loss: 0.0628 - val_acc: 0.9901\n",
      "Epoch 9/10\n",
      "5668/5668 [==============================] - 7s 1ms/step - loss: 0.0048 - acc: 0.9993 - val_loss: 0.1379 - val_acc: 0.9831\n",
      "Epoch 10/10\n",
      "5668/5668 [==============================] - 6s 1ms/step - loss: 0.0085 - acc: 0.9984 - val_loss: 0.0367 - val_acc: 0.9915\n"
     ]
    }
   ],
   "source": [
    "history = model.fit(Xtrain, ytrain, batch_size=BATCH_SIZE,\n",
    "epochs=NUM_EPOCHS,\n",
    " validation_data=(Xtest, ytest))"
   ]
  },
  {
   "cell_type": "code",
   "execution_count": 48,
   "metadata": {},
   "outputs": [
    {
     "name": "stdout",
     "output_type": "stream",
     "text": [
      "1418/1418 [==============================] - 0s 272us/step\n",
      "Test score: 0.037, accuracy: 0.992\n",
      "predicted: 1  label:  1   sent:   i love harry potter..\n",
      "predicted: 0  label:  0   sent:   my dad 's being stupid about brokeback mountain ...\n",
      "predicted: 0  label:  0   sent:   oh , and brokeback mountain is a terrible movie ...\n",
      "predicted: 1  label:  1   sent:   i love mission impossible 1 :\n",
      "predicted: 1  label:  1   sent:   brokeback mountain was so awesome .\n"
     ]
    }
   ],
   "source": [
    "score, acc = model.evaluate(Xtest, ytest, batch_size=BATCH_SIZE)\n",
    "print(\"Test score: %.3f, accuracy: %.3f\" % (score, acc))\n",
    "for i in range(5):\n",
    "    idx = np.random.randint(len(Xtest))\n",
    "    xtest = Xtest[idx].reshape(1,40)\n",
    "    ylabel = ytest[idx]\n",
    "    ypred = model.predict(xtest)[0][0]\n",
    "    sent = \" \".join([index2word[x] for x in xtest[0].tolist() if x != 0])\n",
    "    print(\"predicted: %.0f  label:  %d   sent:   %s\" % (ypred, ylabel, sent))"
   ]
  }
 ],
 "metadata": {
  "kernelspec": {
   "display_name": "Python [Anaconda3]",
   "language": "python",
   "name": "Python [Anaconda3]"
  },
  "language_info": {
   "codemirror_mode": {
    "name": "ipython",
    "version": 3
   },
   "file_extension": ".py",
   "mimetype": "text/x-python",
   "name": "python",
   "nbconvert_exporter": "python",
   "pygments_lexer": "ipython3",
   "version": "3.5.4"
  }
 },
 "nbformat": 4,
 "nbformat_minor": 2
}
