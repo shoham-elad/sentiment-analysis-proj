{
 "cells": [
  {
   "cell_type": "code",
   "execution_count": 1,
   "metadata": {
    "collapsed": true
   },
   "outputs": [],
   "source": [
    "import numpy as np\n",
    "from nltk.corpus import stopwords\n",
    "from nltk import word_tokenize,download\n",
    "import string\n",
    "#download()"
   ]
  },
  {
   "cell_type": "code",
   "execution_count": 22,
   "metadata": {
    "collapsed": true
   },
   "outputs": [],
   "source": [
    "with open(\"test.ft.txt\", 'r',encoding=\"utf-8\") as f:\n",
    "    for line in f:\n",
    "        content = line\n",
    "# you may also want to remove whitespace characters like `\\n` at the end of each line\n",
    "#content = [x.strip().split(\" \") for x in content] \n",
    "\n",
    "delete = \"\"\"\"stopwords.words('english')+\"\"\"\" list(string.punctuation)+[\"''\",'``',\"``\"]\n",
    "tokenizedContent = []\n",
    "for sentece in content:\n",
    "    sentArr = [word for word in word_tokenize(sentece.lower()) if word not in delete and '\\'' not in word]    \n",
    "    tokenizedContent.append(sentArr)\n",
    "\n",
    "Y = [x[0] for x in tokenizedContent]\n",
    "X = [x[1:] for x in tokenizedContent]"
   ]
  },
  {
   "cell_type": "code",
   "execution_count": 20,
   "metadata": {},
   "outputs": [
    {
     "data": {
      "text/plain": [
       "['__label__2', '__label__2', '__label__1', '__label__2', '__label__2']"
      ]
     },
     "execution_count": 20,
     "metadata": {},
     "output_type": "execute_result"
    }
   ],
   "source": [
    "Y"
   ]
  },
  {
   "cell_type": "code",
   "execution_count": 21,
   "metadata": {},
   "outputs": [
    {
     "data": {
      "text/plain": [
       "['great',\n",
       " 'cd',\n",
       " 'lovely',\n",
       " 'pat',\n",
       " 'one',\n",
       " 'great',\n",
       " 'voices',\n",
       " 'generation',\n",
       " 'listened',\n",
       " 'cd',\n",
       " 'years',\n",
       " 'still',\n",
       " 'love',\n",
       " 'good',\n",
       " 'mood',\n",
       " 'makes',\n",
       " 'feel',\n",
       " 'better',\n",
       " 'bad',\n",
       " 'mood',\n",
       " 'evaporates',\n",
       " 'like',\n",
       " 'sugar',\n",
       " 'rain',\n",
       " 'cd',\n",
       " 'oozes',\n",
       " 'life',\n",
       " 'vocals',\n",
       " 'jusat',\n",
       " 'stuunning',\n",
       " 'lyrics',\n",
       " 'kill',\n",
       " 'one',\n",
       " 'life',\n",
       " 'hidden',\n",
       " 'gems',\n",
       " 'desert',\n",
       " 'isle',\n",
       " 'cd',\n",
       " 'book',\n",
       " 'never',\n",
       " 'made',\n",
       " 'big',\n",
       " 'beyond',\n",
       " 'everytime',\n",
       " 'play',\n",
       " 'matter',\n",
       " 'black',\n",
       " 'white',\n",
       " 'young',\n",
       " 'old',\n",
       " 'male',\n",
       " 'female',\n",
       " 'everybody',\n",
       " 'says',\n",
       " 'one',\n",
       " 'thing',\n",
       " 'singing']"
      ]
     },
     "execution_count": 21,
     "metadata": {},
     "output_type": "execute_result"
    }
   ],
   "source": [
    "X[0]"
   ]
  },
  {
   "cell_type": "code",
   "execution_count": 5,
   "metadata": {
    "collapsed": true
   },
   "outputs": [],
   "source": [
    "lengths = [len(x) for x in X]\n"
   ]
  },
  {
   "cell_type": "code",
   "execution_count": 6,
   "metadata": {},
   "outputs": [
    {
     "data": {
      "text/plain": [
       "230"
      ]
     },
     "execution_count": 6,
     "metadata": {},
     "output_type": "execute_result"
    }
   ],
   "source": [
    "max(lengths)"
   ]
  },
  {
   "cell_type": "code",
   "execution_count": 7,
   "metadata": {},
   "outputs": [
    {
     "data": {
      "text/plain": [
       "6"
      ]
     },
     "execution_count": 7,
     "metadata": {},
     "output_type": "execute_result"
    }
   ],
   "source": [
    "min(lengths)"
   ]
  },
  {
   "cell_type": "code",
   "execution_count": 8,
   "metadata": {},
   "outputs": [
    {
     "data": {
      "text/plain": [
       "(array([40217, 91540, 79731, 60551, 46965, 36532, 26293, 15930,  2220,    21], dtype=int64),\n",
       " array([   6. ,   28.4,   50.8,   73.2,   95.6,  118. ,  140.4,  162.8,\n",
       "         185.2,  207.6,  230. ]))"
      ]
     },
     "execution_count": 8,
     "metadata": {},
     "output_type": "execute_result"
    }
   ],
   "source": [
    "np.histogram(lengths)"
   ]
  },
  {
   "cell_type": "code",
   "execution_count": 9,
   "metadata": {},
   "outputs": [
    {
     "data": {
      "text/plain": [
       "400000"
      ]
     },
     "execution_count": 9,
     "metadata": {},
     "output_type": "execute_result"
    }
   ],
   "source": [
    "len(content)"
   ]
  },
  {
   "cell_type": "code",
   "execution_count": 10,
   "metadata": {},
   "outputs": [
    {
     "data": {
      "text/plain": [
       "{6: 1,\n",
       " 8: 4,\n",
       " 10: 1,\n",
       " 11: 3,\n",
       " 12: 5,\n",
       " 13: 20,\n",
       " 14: 36,\n",
       " 15: 102,\n",
       " 16: 244,\n",
       " 17: 511,\n",
       " 18: 850,\n",
       " 19: 1283,\n",
       " 20: 1703,\n",
       " 21: 2817,\n",
       " 22: 4084,\n",
       " 23: 4475,\n",
       " 24: 4795,\n",
       " 25: 4834,\n",
       " 26: 4958,\n",
       " 27: 4804,\n",
       " 28: 4687,\n",
       " 29: 4603,\n",
       " 30: 4520,\n",
       " 31: 4552,\n",
       " 32: 4394,\n",
       " 33: 4397,\n",
       " 34: 4186,\n",
       " 35: 4316,\n",
       " 36: 4365,\n",
       " 37: 4312,\n",
       " 38: 4199,\n",
       " 39: 4086,\n",
       " 40: 4118,\n",
       " 41: 4028,\n",
       " 42: 3956,\n",
       " 43: 3955,\n",
       " 44: 3963,\n",
       " 45: 3993,\n",
       " 46: 3971,\n",
       " 47: 4013,\n",
       " 48: 3912,\n",
       " 49: 3809,\n",
       " 50: 3892,\n",
       " 51: 3818,\n",
       " 52: 3685,\n",
       " 53: 3631,\n",
       " 54: 3701,\n",
       " 55: 3541,\n",
       " 56: 3581,\n",
       " 57: 3490,\n",
       " 58: 3702,\n",
       " 59: 3400,\n",
       " 60: 3605,\n",
       " 61: 3512,\n",
       " 62: 3519,\n",
       " 63: 3425,\n",
       " 64: 3487,\n",
       " 65: 3406,\n",
       " 66: 3409,\n",
       " 67: 3354,\n",
       " 68: 3318,\n",
       " 69: 3291,\n",
       " 70: 3358,\n",
       " 71: 3228,\n",
       " 72: 3169,\n",
       " 73: 3101,\n",
       " 74: 2998,\n",
       " 75: 3037,\n",
       " 76: 3017,\n",
       " 77: 2859,\n",
       " 78: 2924,\n",
       " 79: 2897,\n",
       " 80: 2888,\n",
       " 81: 2833,\n",
       " 82: 2833,\n",
       " 83: 2805,\n",
       " 84: 2700,\n",
       " 85: 2773,\n",
       " 86: 2703,\n",
       " 87: 2631,\n",
       " 88: 2634,\n",
       " 89: 2727,\n",
       " 90: 2601,\n",
       " 91: 2596,\n",
       " 92: 2591,\n",
       " 93: 2533,\n",
       " 94: 2426,\n",
       " 95: 2545,\n",
       " 96: 2366,\n",
       " 97: 2478,\n",
       " 98: 2367,\n",
       " 99: 2352,\n",
       " 100: 2366,\n",
       " 101: 2316,\n",
       " 102: 2267,\n",
       " 103: 2255,\n",
       " 104: 2141,\n",
       " 105: 2153,\n",
       " 106: 2137,\n",
       " 107: 2037,\n",
       " 108: 2098,\n",
       " 109: 2088,\n",
       " 110: 2024,\n",
       " 111: 2020,\n",
       " 112: 1869,\n",
       " 113: 1996,\n",
       " 114: 2036,\n",
       " 115: 1879,\n",
       " 116: 1862,\n",
       " 117: 1858,\n",
       " 118: 1798,\n",
       " 119: 1813,\n",
       " 120: 1825,\n",
       " 121: 1778,\n",
       " 122: 1756,\n",
       " 123: 1653,\n",
       " 124: 1661,\n",
       " 125: 1637,\n",
       " 126: 1611,\n",
       " 127: 1596,\n",
       " 128: 1628,\n",
       " 129: 1605,\n",
       " 130: 1594,\n",
       " 131: 1551,\n",
       " 132: 1531,\n",
       " 133: 1519,\n",
       " 134: 1417,\n",
       " 135: 1497,\n",
       " 136: 1393,\n",
       " 137: 1493,\n",
       " 138: 1373,\n",
       " 139: 1402,\n",
       " 140: 1401,\n",
       " 141: 1381,\n",
       " 142: 1353,\n",
       " 143: 1362,\n",
       " 144: 1354,\n",
       " 145: 1276,\n",
       " 146: 1298,\n",
       " 147: 1280,\n",
       " 148: 1254,\n",
       " 149: 1247,\n",
       " 150: 1231,\n",
       " 151: 1138,\n",
       " 152: 1218,\n",
       " 153: 1161,\n",
       " 154: 1114,\n",
       " 155: 1199,\n",
       " 156: 1098,\n",
       " 157: 1090,\n",
       " 158: 1118,\n",
       " 159: 1040,\n",
       " 160: 973,\n",
       " 161: 1056,\n",
       " 162: 1052,\n",
       " 163: 1038,\n",
       " 164: 1007,\n",
       " 165: 966,\n",
       " 166: 956,\n",
       " 167: 913,\n",
       " 168: 862,\n",
       " 169: 817,\n",
       " 170: 824,\n",
       " 171: 799,\n",
       " 172: 760,\n",
       " 173: 752,\n",
       " 174: 693,\n",
       " 175: 661,\n",
       " 176: 656,\n",
       " 177: 613,\n",
       " 178: 566,\n",
       " 179: 565,\n",
       " 180: 506,\n",
       " 181: 428,\n",
       " 182: 452,\n",
       " 183: 395,\n",
       " 184: 373,\n",
       " 185: 328,\n",
       " 186: 307,\n",
       " 187: 298,\n",
       " 188: 246,\n",
       " 189: 203,\n",
       " 190: 213,\n",
       " 191: 161,\n",
       " 192: 136,\n",
       " 193: 98,\n",
       " 194: 90,\n",
       " 195: 104,\n",
       " 196: 72,\n",
       " 197: 54,\n",
       " 198: 61,\n",
       " 199: 39,\n",
       " 200: 42,\n",
       " 201: 20,\n",
       " 202: 19,\n",
       " 203: 16,\n",
       " 204: 14,\n",
       " 205: 13,\n",
       " 206: 10,\n",
       " 207: 4,\n",
       " 208: 5,\n",
       " 209: 4,\n",
       " 210: 3,\n",
       " 211: 2,\n",
       " 212: 2,\n",
       " 214: 1,\n",
       " 218: 3,\n",
       " 230: 1}"
      ]
     },
     "execution_count": 10,
     "metadata": {},
     "output_type": "execute_result"
    }
   ],
   "source": [
    "HitMap ={}\n",
    "IndexMap ={}\n",
    "for i in range(0,len(lengths)):\n",
    "    value = lengths[i]\n",
    "    if value not in HitMap:\n",
    "        IndexMap[value]=[]\n",
    "        HitMap[value]=0\n",
    "    HitMap[value]+=1\n",
    "    IndexMap[value].append(i)\n",
    "HitMap"
   ]
  },
  {
   "cell_type": "code",
   "execution_count": 11,
   "metadata": {
    "collapsed": true
   },
   "outputs": [],
   "source": [
    "def equalLength(k,max,min):\n",
    "    dataSize = max-min\n",
    "    if dataSize<=0:\n",
    "        buckets = set()\n",
    "        buckets.add(1)\n",
    "        return buckets\n",
    "    \n",
    "    bucketSize= dataSize/k\n",
    "    currBucket=min\n",
    "    #buckets = {}\n",
    "    buckets = set()\n",
    "    while currBucket<= max:\n",
    "        #buckets[currBucket]=[]\n",
    "        buckets.add(currBucket)\n",
    "        currBucket+=bucketSize+1\n",
    "        \n",
    "    if currBucket == max:\n",
    "        #buckets[max+1]=[]\n",
    "        buckets.add(currBucket+1)\n",
    "        \n",
    "    #maybe add infinity spot\n",
    "    return buckets"
   ]
  },
  {
   "cell_type": "code",
   "execution_count": 12,
   "metadata": {
    "collapsed": true
   },
   "outputs": [],
   "source": [
    "def equalSize(k,lengths):\n",
    "    unique = set()\n",
    "    for length in lengths:\n",
    "        unique.add(length)\n",
    "    \n",
    "    uniqueLength = len(unique)\n",
    "    uniqueList = list(unique)\n",
    "    sort(uniqueList)\n",
    "    \n",
    "    bucketSize= uniqueLength/k\n",
    "    currBucket=0\n",
    "    #buckets = {}\n",
    "    buckets = set()\n",
    "    while currBucket<= max:\n",
    "        #buckets[currBucket]=[]\n",
    "        buckets.add(uniqueList[currBucket])\n",
    "        currBucket+=bucketSize\n",
    "        \n",
    "    if currBucket == max:\n",
    "        buckets.add(uniqueList[currBucket+1])\n",
    "        #buckets[max+1]=[]\n",
    "    #maybe add infinity spot\n",
    "    return buckets"
   ]
  },
  {
   "cell_type": "code",
   "execution_count": 24,
   "metadata": {},
   "outputs": [
    {
     "data": {
      "text/plain": [
       "[1, 40216, 91540, 79731, 60551, 48763, 34734, 26293, 15930, 2220, 21]"
      ]
     },
     "execution_count": 24,
     "metadata": {},
     "output_type": "execute_result"
    }
   ],
   "source": [
    "def getHistogram(data,partition):\n",
    "    histogram = [0]*len(partition)\n",
    "    for dat in data:\n",
    "        for i in range(0,len(partition)):\n",
    "            if dat <= partition[i]:\n",
    "                histogram[i]+=1\n",
    "                break\n",
    "        #maybe add infinity spot handler\n",
    "    return histogram\n",
    "\n",
    "part = [6,28.4,50.8,73.2,95.6,118,140.4,162.8,185.2,207.6,230]\n",
    "getHistogram(lengths,part)"
   ]
  },
  {
   "cell_type": "code",
   "execution_count": null,
   "metadata": {
    "collapsed": true
   },
   "outputs": [],
   "source": [
    "(array([40217, 91540, 79731, 60551, 46965, 36532, 26293, 15930,  2220,    21], dtype=int64),\n",
    " array([   6. ,   28.4,   50.8,   73.2,   95.6,  118. ,  140.4,  162.8,\n",
    "         185.2,  207.6,  230. ]))"
   ]
  }
 ],
 "metadata": {
  "anaconda-cloud": {},
  "kernelspec": {
   "display_name": "Python [Anaconda3]",
   "language": "python",
   "name": "Python [Anaconda3]"
  },
  "language_info": {
   "codemirror_mode": {
    "name": "ipython",
    "version": 3
   },
   "file_extension": ".py",
   "mimetype": "text/x-python",
   "name": "python",
   "nbconvert_exporter": "python",
   "pygments_lexer": "ipython3",
   "version": "3.5.4"
  }
 },
 "nbformat": 4,
 "nbformat_minor": 2
}
